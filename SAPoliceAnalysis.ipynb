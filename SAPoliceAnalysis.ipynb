{
 "cells": [
  {
   "cell_type": "markdown",
   "metadata": {},
   "source": [
    "Import Necessary Libraries"
   ]
  },
  {
   "cell_type": "code",
   "execution_count": 4,
   "metadata": {},
   "outputs": [],
   "source": [
    "import numpy as np\n",
    "import pandas as pd\n",
    "import matplotlib.pyplot as plt\n",
    "from sklearn.model_selection import train_test_split\n",
    "from sklearn.tree import DecisionTreeClassifier\n",
    "from sklearn.linear_model import LogisticRegression\n",
    "import pandas_profiling as pp\n",
    "%matplotlib inline"
   ]
  },
  {
   "cell_type": "markdown",
   "metadata": {},
   "source": [
    "#### Import San Antonio Policing DataSet"
   ]
  },
  {
   "cell_type": "code",
   "execution_count": 5,
   "metadata": {},
   "outputs": [
    {
     "name": "stderr",
     "output_type": "stream",
     "text": [
      "/var/folders/z1/yk19_3qn0r7_6b4cqg7hz5yr0000gn/T/ipykernel_51026/1740847598.py:2: DtypeWarning: Columns (16,18,29,30,31) have mixed types. Specify dtype option on import or set low_memory=False.\n",
      "  df = pd.read_csv('SanAntonio.csv')\n"
     ]
    },
    {
     "name": "stdout",
     "output_type": "stream",
     "text": [
      "Pre-processed Shape: (1040428, 32)\n"
     ]
    }
   ],
   "source": [
    "# Import San Antonio DataSet \n",
    "df = pd.read_csv('SanAntonio.csv')\n",
    "\n",
    "print('Pre-processed Shape:',df.shape)"
   ]
  },
  {
   "cell_type": "code",
   "execution_count": 6,
   "metadata": {},
   "outputs": [
    {
     "data": {
      "text/plain": [
       "Index(['raw_row_number', 'date', 'time', 'location', 'lat', 'lng', 'district',\n",
       "       'substation', 'subject_age', 'subject_race', 'subject_sex', 'type',\n",
       "       'violation', 'arrest_made', 'citation_issued', 'outcome',\n",
       "       'contraband_found', 'search_conducted', 'search_basis', 'speed',\n",
       "       'posted_speed', 'vehicle_color', 'vehicle_make', 'vehicle_model',\n",
       "       'vehicle_registration_state', 'vehicle_year', 'raw_race',\n",
       "       'raw_posted_speed', 'raw_actual_speed', 'raw_search_reason',\n",
       "       'raw_contraband_or_evidence', 'raw_custodial_arrest_made'],\n",
       "      dtype='object')"
      ]
     },
     "execution_count": 6,
     "metadata": {},
     "output_type": "execute_result"
    }
   ],
   "source": [
    "df.columns"
   ]
  },
  {
   "cell_type": "markdown",
   "metadata": {},
   "source": [
    "Filter for Columns of Interest"
   ]
  },
  {
   "cell_type": "code",
   "execution_count": 7,
   "metadata": {},
   "outputs": [],
   "source": [
    "# Filter for Vehicular Stop Data\n",
    "df = df[df['type'] == 'vehicular']\n",
    "\n",
    "# Filter for Columns of Interests \n",
    "columns = ['date','district','substation','subject_age','subject_race','subject_sex','violation','arrest_made','citation_issued','outcome','search_conducted','search_basis','raw_search_reason']\n",
    "\n",
    "\n",
    "df_filtered = df.filter(columns, axis = 1)\n"
   ]
  },
  {
   "cell_type": "code",
   "execution_count": 8,
   "metadata": {},
   "outputs": [
    {
     "data": {
      "text/plain": [
       "(876933, 13)"
      ]
     },
     "execution_count": 8,
     "metadata": {},
     "output_type": "execute_result"
    }
   ],
   "source": [
    "df_filtered.shape"
   ]
  },
  {
   "cell_type": "code",
   "execution_count": 9,
   "metadata": {},
   "outputs": [
    {
     "name": "stdout",
     "output_type": "stream",
     "text": [
      "Filtered Columns: Index(['date', 'district', 'substation', 'subject_age', 'subject_race',\n",
      "       'subject_sex', 'violation', 'arrest_made', 'citation_issued', 'outcome',\n",
      "       'search_conducted', 'search_basis', 'raw_search_reason'],\n",
      "      dtype='object')\n"
     ]
    }
   ],
   "source": [
    "print('Filtered Columns:', df_filtered.columns)\n"
   ]
  },
  {
   "cell_type": "markdown",
   "metadata": {},
   "source": [
    " Check for Null Values "
   ]
  },
  {
   "cell_type": "code",
   "execution_count": 10,
   "metadata": {},
   "outputs": [],
   "source": [
    "# Check for Number of Null Values by Columns \n",
    "df_filtered.isnull().sum()\n",
    "\n",
    "#Drop Handling Missing Values \n",
    "df_filtered['subject_age'] = df_filtered['subject_age'].fillna(df_filtered['subject_age'].mode()[0])"
   ]
  },
  {
   "cell_type": "markdown",
   "metadata": {},
   "source": [
    "#### Check Data Type"
   ]
  },
  {
   "cell_type": "code",
   "execution_count": 11,
   "metadata": {},
   "outputs": [
    {
     "name": "stdout",
     "output_type": "stream",
     "text": [
      "<class 'pandas.core.frame.DataFrame'>\n",
      "Int64Index: 876933 entries, 0 to 1040427\n",
      "Data columns (total 14 columns):\n",
      " #   Column             Non-Null Count   Dtype         \n",
      "---  ------             --------------   -----         \n",
      " 0   date               876933 non-null  datetime64[ns]\n",
      " 1   district           805909 non-null  category      \n",
      " 2   substation         805909 non-null  category      \n",
      " 3   subject_age        876933 non-null  int64         \n",
      " 4   subject_race       876739 non-null  category      \n",
      " 5   subject_sex        876326 non-null  category      \n",
      " 6   violation          876933 non-null  object        \n",
      " 7   arrest_made        876933 non-null  bool          \n",
      " 8   citation_issued    876933 non-null  bool          \n",
      " 9   outcome            876933 non-null  category      \n",
      " 10  search_conducted   876933 non-null  bool          \n",
      " 11  search_basis       7637 non-null    category      \n",
      " 12  raw_search_reason  147879 non-null  object        \n",
      " 13  Year               876933 non-null  int64         \n",
      "dtypes: bool(3), category(6), datetime64[ns](1), int64(2), object(2)\n",
      "memory usage: 47.7+ MB\n"
     ]
    }
   ],
   "source": [
    "df_filtered['date'] = pd.to_datetime(df_filtered['date'])\n",
    "df_filtered['Year'] = df_filtered['date'].dt.year\n",
    "df_filtered['district'] = df_filtered['district'].astype('category')\n",
    "df_filtered['subject_race']= df_filtered['subject_race'].astype('category')\n",
    "df_filtered['subject_sex'] = df_filtered['subject_sex'].astype('category')\n",
    "df_filtered['subject_age'] = df_filtered['subject_age'].astype('int')\n",
    "df_filtered['substation'] = df_filtered['substation'].astype('category')\n",
    "df_filtered['outcome'] = df_filtered['outcome'].astype('category')\n",
    "df_filtered['search_basis'] = df_filtered['search_basis'].astype('category')\n",
    "df_filtered.info()"
   ]
  },
  {
   "cell_type": "markdown",
   "metadata": {},
   "source": [
    "Range of Data"
   ]
  },
  {
   "cell_type": "code",
   "execution_count": 12,
   "metadata": {},
   "outputs": [
    {
     "name": "stdout",
     "output_type": "stream",
     "text": [
      "Earliest Record 2012-01-01 00:00:00\n",
      "Latest Record 2018-04-19 00:00:00\n"
     ]
    }
   ],
   "source": [
    "print('Earliest Record', df_filtered.date.min())\n",
    "print('Latest Record', df_filtered.date.max())"
   ]
  },
  {
   "cell_type": "code",
   "execution_count": 13,
   "metadata": {},
   "outputs": [],
   "source": [
    "# # Filter data between Jan 2012 - Jan 2018\n",
    "# df_filtered = df_filtered.loc[(df['date'] >= '2012-01-01')\n",
    "#                      & (df['date'] < '2018-01-01')]\n",
    "# # Sort Dataframe by Year\n",
    "# df_filtered = df_filtered.sort_values(by = 'date', ascending = True)"
   ]
  },
  {
   "cell_type": "code",
   "execution_count": 14,
   "metadata": {},
   "outputs": [
    {
     "data": {
      "text/plain": [
       "(876933, 14)"
      ]
     },
     "execution_count": 14,
     "metadata": {},
     "output_type": "execute_result"
    }
   ],
   "source": [
    "df_filtered.shape"
   ]
  },
  {
   "cell_type": "markdown",
   "metadata": {},
   "source": [
    "### Summary Statistics"
   ]
  },
  {
   "cell_type": "code",
   "execution_count": 15,
   "metadata": {},
   "outputs": [],
   "source": [
    "# profile = pp.ProfileReport(df_filtered, title=\"Pandas Profiling Report\")\n",
    "# profile"
   ]
  },
  {
   "cell_type": "code",
   "execution_count": 16,
   "metadata": {},
   "outputs": [],
   "source": [
    "black = df_filtered.loc[df_filtered['subject_race'] == 'black']\n",
    "white = df_filtered.loc[df_filtered['subject_race'] == 'white']\n",
    "hispanic =  df_filtered.loc[df_filtered['subject_race'] == 'hispanic']\n",
    "asian = df_filtered.loc[df_filtered['subject_race'] == 'asian/pacific islander']\n",
    "other = df_filtered.loc[df_filtered['subject_race'] == 'other']\n",
    "unknown = df_filtered.loc[df_filtered['subject_race'] == 'unknown']"
   ]
  },
  {
   "cell_type": "code",
   "execution_count": 17,
   "metadata": {},
   "outputs": [],
   "source": [
    "def violations_by_race(race_category):\n",
    "     violations = []\n",
    "\n",
    "     for encounter in race_category['violation']:\n",
    "          item = encounter.split('|')\n",
    "          for j in item: \n",
    "               violations.append(j)\n",
    "     \n",
    "     values, counts = np.unique(violations, return_counts=True)\n",
    "\n",
    "     top_10_vals = sorted(values, reverse = True)[0:10]\n",
    "     top_10_counts = sorted(counts, reverse = True)[0:10]\n",
    "\n",
    "     violations_dict = dict(zip(top_10_vals, top_10_counts))\n",
    "\n",
    "     # violations_df = pd.DataFrame.from_dict(violations_dict, orient = 'index')\n",
    "     \n",
    "     return violations_dict\n",
    "\n"
   ]
  },
  {
   "cell_type": "code",
   "execution_count": 18,
   "metadata": {},
   "outputs": [
    {
     "name": "stdout",
     "output_type": "stream",
     "text": [
      "{'WRONG WAY ONE-WAY STREET': 46829, 'WRECKER SERVICE': 11122, 'WINDSHIELD OBSTRUCTED-MATERIAL OR OBJECTAFFIXED': 9169, 'VEHICLE STRUCTURES AND ANCHOR POINTS': 5187, 'VEHICLE FOR HIRE (MISCELLANEOUS)': 4108, 'USE OF TIEDOWNS': 3945, 'USE OF HAND-HELD MOBILE COMMUNICATION DEVICE': 3337, 'UNSAFE VEHICLE': 3318, 'UNSAFE SPEED - CONSTRUCTION ZONE': 2431, 'UNSAFE SPEED': 2002}\n",
      "{'WRONG WAY ONE-WAY STREET': 172497, 'WRECKER SERVICE': 28977, 'WINDSHIELD WIPERS': 25625, 'WINDSHIELD OBSTRUCTED-MATERIAL OR OBJECTAFFIXED': 17080, 'VIOLATION OF REAR LOAD EXTENSIONS': 16337, 'VEHICLE STRUCTURES AND ANCHOR POINTS': 16145, 'VEHICLE FOR HIRE (MISCELLANEOUS)': 9974, 'USE OF TIEDOWNS': 9676, 'USE OF HAND-HELD MOBILE COMMUNICATION DEVICE': 9071, 'UNSAFE SPEED - CONSTRUCTION ZONE': 9042}\n",
      "{'WRONG WAY ONE-WAY STREET': 234941, 'WRECKER SERVICE': 68081, 'WINDSHIELD WIPERS': 49746, 'WINDSHIELD OBSTRUCTED-MATERIAL OR OBJECTAFFIXED': 43362, 'VIOLATION OF REAR LOAD EXTENSIONS': 27324, 'VEHICLE STRUCTURES AND ANCHOR POINTS': 22885, 'VEHICLE FOR HIRE (MISCELLANEOUS)': 20340, 'USE OF TIEDOWNS': 17835, 'USE OF HAND-HELD MOBILE COMMUNICATION DEVICE': 14574, \"USE OF DEALER'S LICENSE PLATES AND TAGS-CARDBOARD (DEALERS OR EMPLOYEES)\": 12029}\n",
      "{'WRONG WAY ONE-WAY STREET': 6021, 'WRECKER SERVICE': 696, 'WINDSHIELD OBSTRUCTED-MATERIAL OR OBJECTAFFIXED': 523, 'USE OF TIEDOWNS': 330, 'USE OF HAND-HELD MOBILE COMMUNICATION DEVICE': 311, 'UNSAFE SPEED': 302, 'UNNECESSARY NOISE-MUFFLER': 258, 'UNLAWFUL RIDING': 230, \"UNAUTHORIZED USE OF DEALER'S TEMPORARY LICENSE PLATES\": 194, 'UNATTENDED VEHICLE': 171}\n"
     ]
    }
   ],
   "source": [
    "print(violations_by_race(black))\n",
    "print(violations_by_race(white))\n",
    "print(violations_by_race(hispanic))\n",
    "print(violations_by_race(asian))"
   ]
  },
  {
   "cell_type": "markdown",
   "metadata": {},
   "source": [
    "By Race Category"
   ]
  },
  {
   "cell_type": "code",
   "execution_count": 19,
   "metadata": {},
   "outputs": [
    {
     "data": {
      "text/plain": [
       "[(18.0, 24.0], (24.0, 44.0], (44.0, 64.0], (64.0, 100.0], NaN]\n",
       "Categories (4, interval[int64, right]): [(18, 24] < (24, 44] < (44, 64] < (64, 100]]"
      ]
     },
     "execution_count": 19,
     "metadata": {},
     "output_type": "execute_result"
    }
   ],
   "source": [
    "df_filtered['age_bins'] = pd.cut(x=df_filtered['subject_age'], bins=[18, 24, 44, 64, 100])\n",
    "df_filtered['age_bins'].unique()"
   ]
  },
  {
   "cell_type": "code",
   "execution_count": 20,
   "metadata": {},
   "outputs": [
    {
     "data": {
      "text/html": [
       "<div>\n",
       "<style scoped>\n",
       "    .dataframe tbody tr th:only-of-type {\n",
       "        vertical-align: middle;\n",
       "    }\n",
       "\n",
       "    .dataframe tbody tr th {\n",
       "        vertical-align: top;\n",
       "    }\n",
       "\n",
       "    .dataframe thead th {\n",
       "        text-align: right;\n",
       "    }\n",
       "</style>\n",
       "<table border=\"1\" class=\"dataframe\">\n",
       "  <thead>\n",
       "    <tr style=\"text-align: right;\">\n",
       "      <th></th>\n",
       "      <th>subject_race</th>\n",
       "      <th>(18, 24]</th>\n",
       "      <th>(24, 44]</th>\n",
       "      <th>(44, 64]</th>\n",
       "      <th>(64, 100]</th>\n",
       "      <th>All_x</th>\n",
       "      <th>arrest</th>\n",
       "      <th>citation</th>\n",
       "      <th>All_y</th>\n",
       "    </tr>\n",
       "  </thead>\n",
       "  <tbody>\n",
       "    <tr>\n",
       "      <th>0</th>\n",
       "      <td>asian/pacific islander</td>\n",
       "      <td>1929</td>\n",
       "      <td>4751</td>\n",
       "      <td>2137</td>\n",
       "      <td>293</td>\n",
       "      <td>9110</td>\n",
       "      <td>12</td>\n",
       "      <td>9350</td>\n",
       "      <td>9362</td>\n",
       "    </tr>\n",
       "    <tr>\n",
       "      <th>1</th>\n",
       "      <td>black</td>\n",
       "      <td>19131</td>\n",
       "      <td>43552</td>\n",
       "      <td>16746</td>\n",
       "      <td>1899</td>\n",
       "      <td>81328</td>\n",
       "      <td>266</td>\n",
       "      <td>83263</td>\n",
       "      <td>83529</td>\n",
       "    </tr>\n",
       "    <tr>\n",
       "      <th>2</th>\n",
       "      <td>hispanic</td>\n",
       "      <td>101689</td>\n",
       "      <td>238713</td>\n",
       "      <td>89002</td>\n",
       "      <td>13023</td>\n",
       "      <td>442427</td>\n",
       "      <td>1063</td>\n",
       "      <td>457031</td>\n",
       "      <td>458094</td>\n",
       "    </tr>\n",
       "    <tr>\n",
       "      <th>3</th>\n",
       "      <td>other</td>\n",
       "      <td>4018</td>\n",
       "      <td>11476</td>\n",
       "      <td>4302</td>\n",
       "      <td>571</td>\n",
       "      <td>20367</td>\n",
       "      <td>37</td>\n",
       "      <td>20715</td>\n",
       "      <td>20752</td>\n",
       "    </tr>\n",
       "    <tr>\n",
       "      <th>4</th>\n",
       "      <td>unknown</td>\n",
       "      <td>250</td>\n",
       "      <td>404</td>\n",
       "      <td>167</td>\n",
       "      <td>26</td>\n",
       "      <td>847</td>\n",
       "      <td>7</td>\n",
       "      <td>885</td>\n",
       "      <td>892</td>\n",
       "    </tr>\n",
       "    <tr>\n",
       "      <th>5</th>\n",
       "      <td>white</td>\n",
       "      <td>60733</td>\n",
       "      <td>148022</td>\n",
       "      <td>71605</td>\n",
       "      <td>11868</td>\n",
       "      <td>292228</td>\n",
       "      <td>881</td>\n",
       "      <td>303229</td>\n",
       "      <td>304110</td>\n",
       "    </tr>\n",
       "    <tr>\n",
       "      <th>6</th>\n",
       "      <td>All</td>\n",
       "      <td>187750</td>\n",
       "      <td>446918</td>\n",
       "      <td>183959</td>\n",
       "      <td>27680</td>\n",
       "      <td>846307</td>\n",
       "      <td>2266</td>\n",
       "      <td>874473</td>\n",
       "      <td>876739</td>\n",
       "    </tr>\n",
       "  </tbody>\n",
       "</table>\n",
       "</div>"
      ],
      "text/plain": [
       "             subject_race  (18, 24]  (24, 44]  (44, 64]  (64, 100]   All_x  \\\n",
       "0  asian/pacific islander      1929      4751      2137        293    9110   \n",
       "1                   black     19131     43552     16746       1899   81328   \n",
       "2                hispanic    101689    238713     89002      13023  442427   \n",
       "3                   other      4018     11476      4302        571   20367   \n",
       "4                 unknown       250       404       167         26     847   \n",
       "5                   white     60733    148022     71605      11868  292228   \n",
       "6                     All    187750    446918    183959      27680  846307   \n",
       "\n",
       "   arrest  citation   All_y  \n",
       "0      12      9350    9362  \n",
       "1     266     83263   83529  \n",
       "2    1063    457031  458094  \n",
       "3      37     20715   20752  \n",
       "4       7       885     892  \n",
       "5     881    303229  304110  \n",
       "6    2266    874473  876739  "
      ]
     },
     "execution_count": 20,
     "metadata": {},
     "output_type": "execute_result"
    }
   ],
   "source": [
    "race_cross = pd.crosstab(index = df_filtered['subject_race'], columns = df_filtered.outcome, margins = True)\n",
    "age_cross = pd.crosstab(index = df_filtered['subject_race'], columns = df_filtered.age_bins, margins = True)\n",
    "race_age = age_cross.merge(race_cross.reset_index(),on=\"subject_race\")\n",
    "race_age"
   ]
  },
  {
   "cell_type": "markdown",
   "metadata": {},
   "source": [
    "#### Frequency of Race, Stratified by Year"
   ]
  },
  {
   "cell_type": "code",
   "execution_count": 21,
   "metadata": {},
   "outputs": [],
   "source": [
    "# race_data = df_filtered.groupby(['Year','subject_race']).agg({'subject_race':'count'})\n",
    "# race_data['%'] = race_data.groupby(level=0).apply(lambda x:100 * x / float(x.sum())).round(decimals = 2)\n",
    "# race_data = race_data.rename(columns = {'subject_race': 'n'})"
   ]
  },
  {
   "cell_type": "markdown",
   "metadata": {},
   "source": [
    "Visualization of # of Stop by Race "
   ]
  },
  {
   "cell_type": "code",
   "execution_count": 22,
   "metadata": {},
   "outputs": [
    {
     "data": {
      "image/png": "[encoded data removed]",
      "text/plain": [
       "<Figure size 640x480 with 1 Axes>"
      ]
     },
     "metadata": {},
     "output_type": "display_data"
    }
   ],
   "source": [
    "# Filter data between Jan 2012 - Jan 2018\n",
    "df_dates = df_filtered.loc[(df['date'] >= '2012-01-01')\n",
    "                     & (df['date'] < '2018-01-01')]\n",
    "# Sort Dataframe by Year\n",
    "df_dates = df_dates.sort_values(by = 'date', ascending = True)\n",
    "\n",
    "\n",
    "race = df_dates.groupby(['Year','subject_race'], as_index = False)['date'].count()\n",
    "\n",
    "fig, ax = plt.subplots()\n",
    "\n",
    "# key gives the group name (i.e. category), data gives the actual values\n",
    "for key, data in race.groupby('subject_race'):\n",
    "    data.plot(x='Year', y='date', ax=ax, label=key, ylabel = 'n')\n",
    "\n",
    "# displaying the title\n",
    "# plt.title(label=\"Number of Stops Categorized by Race (2012 - 2017)\",\n",
    "#           fontsize=15,\n",
    "#           color=\"black\")"
   ]
  },
  {
   "cell_type": "markdown",
   "metadata": {},
   "source": [
    "### Comparison by Gender "
   ]
  },
  {
   "cell_type": "code",
   "execution_count": 23,
   "metadata": {},
   "outputs": [],
   "source": [
    "female_drivers = df_filtered[df_filtered[\"subject_sex\"] == \"female\"]\n",
    "male_drivers = df_filtered[df_filtered[\"subject_sex\"] == \"male\"]"
   ]
  },
  {
   "cell_type": "code",
   "execution_count": 24,
   "metadata": {},
   "outputs": [
    {
     "name": "stdout",
     "output_type": "stream",
     "text": [
      "Number of Females in Sample: (332512, 15)\n",
      "Number of Males in Sample: (543814, 15)\n"
     ]
    }
   ],
   "source": [
    "print('Number of Females in Sample:',female_drivers.shape)\n",
    "print('Number of Males in Sample:', male_drivers.shape)"
   ]
  },
  {
   "cell_type": "code",
   "execution_count": 25,
   "metadata": {},
   "outputs": [
    {
     "data": {
      "text/html": [
       "<div>\n",
       "<style scoped>\n",
       "    .dataframe tbody tr th:only-of-type {\n",
       "        vertical-align: middle;\n",
       "    }\n",
       "\n",
       "    .dataframe tbody tr th {\n",
       "        vertical-align: top;\n",
       "    }\n",
       "\n",
       "    .dataframe thead th {\n",
       "        text-align: right;\n",
       "    }\n",
       "</style>\n",
       "<table border=\"1\" class=\"dataframe\">\n",
       "  <thead>\n",
       "    <tr style=\"text-align: right;\">\n",
       "      <th></th>\n",
       "      <th>subject_race</th>\n",
       "    </tr>\n",
       "    <tr>\n",
       "      <th>subject_race</th>\n",
       "      <th></th>\n",
       "    </tr>\n",
       "  </thead>\n",
       "  <tbody>\n",
       "    <tr>\n",
       "      <th>asian/pacific islander</th>\n",
       "      <td>3707</td>\n",
       "    </tr>\n",
       "    <tr>\n",
       "      <th>black</th>\n",
       "      <td>30261</td>\n",
       "    </tr>\n",
       "    <tr>\n",
       "      <th>hispanic</th>\n",
       "      <td>176571</td>\n",
       "    </tr>\n",
       "    <tr>\n",
       "      <th>other</th>\n",
       "      <td>5591</td>\n",
       "    </tr>\n",
       "    <tr>\n",
       "      <th>unknown</th>\n",
       "      <td>205</td>\n",
       "    </tr>\n",
       "    <tr>\n",
       "      <th>white</th>\n",
       "      <td>116153</td>\n",
       "    </tr>\n",
       "  </tbody>\n",
       "</table>\n",
       "</div>"
      ],
      "text/plain": [
       "                        subject_race\n",
       "subject_race                        \n",
       "asian/pacific islander          3707\n",
       "black                          30261\n",
       "hispanic                      176571\n",
       "other                           5591\n",
       "unknown                          205\n",
       "white                         116153"
      ]
     },
     "execution_count": 25,
     "metadata": {},
     "output_type": "execute_result"
    }
   ],
   "source": [
    "female_drivers.groupby(['subject_race']).agg({'subject_race':'count'})"
   ]
  },
  {
   "cell_type": "code",
   "execution_count": 26,
   "metadata": {},
   "outputs": [
    {
     "data": {
      "text/html": [
       "<div>\n",
       "<style scoped>\n",
       "    .dataframe tbody tr th:only-of-type {\n",
       "        vertical-align: middle;\n",
       "    }\n",
       "\n",
       "    .dataframe tbody tr th {\n",
       "        vertical-align: top;\n",
       "    }\n",
       "\n",
       "    .dataframe thead th {\n",
       "        text-align: right;\n",
       "    }\n",
       "</style>\n",
       "<table border=\"1\" class=\"dataframe\">\n",
       "  <thead>\n",
       "    <tr style=\"text-align: right;\">\n",
       "      <th></th>\n",
       "      <th>subject_race</th>\n",
       "    </tr>\n",
       "    <tr>\n",
       "      <th>subject_race</th>\n",
       "      <th></th>\n",
       "    </tr>\n",
       "  </thead>\n",
       "  <tbody>\n",
       "    <tr>\n",
       "      <th>asian/pacific islander</th>\n",
       "      <td>5651</td>\n",
       "    </tr>\n",
       "    <tr>\n",
       "      <th>black</th>\n",
       "      <td>53243</td>\n",
       "    </tr>\n",
       "    <tr>\n",
       "      <th>hispanic</th>\n",
       "      <td>281341</td>\n",
       "    </tr>\n",
       "    <tr>\n",
       "      <th>other</th>\n",
       "      <td>15145</td>\n",
       "    </tr>\n",
       "    <tr>\n",
       "      <th>unknown</th>\n",
       "      <td>504</td>\n",
       "    </tr>\n",
       "    <tr>\n",
       "      <th>white</th>\n",
       "      <td>187898</td>\n",
       "    </tr>\n",
       "  </tbody>\n",
       "</table>\n",
       "</div>"
      ],
      "text/plain": [
       "                        subject_race\n",
       "subject_race                        \n",
       "asian/pacific islander          5651\n",
       "black                          53243\n",
       "hispanic                      281341\n",
       "other                          15145\n",
       "unknown                          504\n",
       "white                         187898"
      ]
     },
     "execution_count": 26,
     "metadata": {},
     "output_type": "execute_result"
    }
   ],
   "source": [
    "male_drivers.groupby(['subject_race']).agg({'subject_race':'count'})"
   ]
  },
  {
   "cell_type": "code",
   "execution_count": 27,
   "metadata": {},
   "outputs": [
    {
     "data": {
      "text/html": [
       "<div>\n",
       "<style scoped>\n",
       "    .dataframe tbody tr th:only-of-type {\n",
       "        vertical-align: middle;\n",
       "    }\n",
       "\n",
       "    .dataframe tbody tr th {\n",
       "        vertical-align: top;\n",
       "    }\n",
       "\n",
       "    .dataframe thead th {\n",
       "        text-align: right;\n",
       "    }\n",
       "</style>\n",
       "<table border=\"1\" class=\"dataframe\">\n",
       "  <thead>\n",
       "    <tr style=\"text-align: right;\">\n",
       "      <th></th>\n",
       "      <th></th>\n",
       "      <th></th>\n",
       "      <th>subject_sex</th>\n",
       "      <th>%</th>\n",
       "    </tr>\n",
       "    <tr>\n",
       "      <th>Year</th>\n",
       "      <th>subject_sex</th>\n",
       "      <th>subject_race</th>\n",
       "      <th></th>\n",
       "      <th></th>\n",
       "    </tr>\n",
       "  </thead>\n",
       "  <tbody>\n",
       "    <tr>\n",
       "      <th rowspan=\"5\" valign=\"top\">2012</th>\n",
       "      <th rowspan=\"5\" valign=\"top\">female</th>\n",
       "      <th>asian/pacific islander</th>\n",
       "      <td>635</td>\n",
       "      <td>0.41</td>\n",
       "    </tr>\n",
       "    <tr>\n",
       "      <th>black</th>\n",
       "      <td>5186</td>\n",
       "      <td>3.35</td>\n",
       "    </tr>\n",
       "    <tr>\n",
       "      <th>hispanic</th>\n",
       "      <td>28171</td>\n",
       "      <td>18.21</td>\n",
       "    </tr>\n",
       "    <tr>\n",
       "      <th>other</th>\n",
       "      <td>1102</td>\n",
       "      <td>0.71</td>\n",
       "    </tr>\n",
       "    <tr>\n",
       "      <th>unknown</th>\n",
       "      <td>10</td>\n",
       "      <td>0.01</td>\n",
       "    </tr>\n",
       "    <tr>\n",
       "      <th>...</th>\n",
       "      <th>...</th>\n",
       "      <th>...</th>\n",
       "      <td>...</td>\n",
       "      <td>...</td>\n",
       "    </tr>\n",
       "    <tr>\n",
       "      <th rowspan=\"5\" valign=\"top\">2018</th>\n",
       "      <th rowspan=\"5\" valign=\"top\">male</th>\n",
       "      <th>black</th>\n",
       "      <td>2165</td>\n",
       "      <td>5.91</td>\n",
       "    </tr>\n",
       "    <tr>\n",
       "      <th>hispanic</th>\n",
       "      <td>11502</td>\n",
       "      <td>31.37</td>\n",
       "    </tr>\n",
       "    <tr>\n",
       "      <th>other</th>\n",
       "      <td>460</td>\n",
       "      <td>1.25</td>\n",
       "    </tr>\n",
       "    <tr>\n",
       "      <th>unknown</th>\n",
       "      <td>25</td>\n",
       "      <td>0.07</td>\n",
       "    </tr>\n",
       "    <tr>\n",
       "      <th>white</th>\n",
       "      <td>7829</td>\n",
       "      <td>21.36</td>\n",
       "    </tr>\n",
       "  </tbody>\n",
       "</table>\n",
       "<p>84 rows × 2 columns</p>\n",
       "</div>"
      ],
      "text/plain": [
       "                                         subject_sex      %\n",
       "Year subject_sex subject_race                              \n",
       "2012 female      asian/pacific islander          635   0.41\n",
       "                 black                          5186   3.35\n",
       "                 hispanic                      28171  18.21\n",
       "                 other                          1102   0.71\n",
       "                 unknown                          10   0.01\n",
       "...                                              ...    ...\n",
       "2018 male        black                          2165   5.91\n",
       "                 hispanic                      11502  31.37\n",
       "                 other                           460   1.25\n",
       "                 unknown                          25   0.07\n",
       "                 white                          7829  21.36\n",
       "\n",
       "[84 rows x 2 columns]"
      ]
     },
     "execution_count": 27,
     "metadata": {},
     "output_type": "execute_result"
    }
   ],
   "source": [
    "sex_data = df_filtered.groupby(['Year','subject_sex','subject_race']).agg({'subject_sex':'count'})\n",
    "sex_data['%'] = sex_data.groupby(level=0).apply(lambda x:100 * x / float(x.sum())).round(decimals = 2)\n",
    "sex_data"
   ]
  },
  {
   "cell_type": "markdown",
   "metadata": {},
   "source": [
    "### Rank Ordering Violations (Top-10)"
   ]
  },
  {
   "cell_type": "code",
   "execution_count": 28,
   "metadata": {},
   "outputs": [
    {
     "name": "stdout",
     "output_type": "stream",
     "text": [
      "1180221\n"
     ]
    }
   ],
   "source": [
    "violations = []\n",
    "\n",
    "for i in df_filtered['violation']:\n",
    "     item = i.split('|')\n",
    "     for j in item: \n",
    "          violations.append(j)\n",
    "\n",
    "print(len(violations))\n",
    "\n",
    "values, counts = np.unique(violations, return_counts=True)\n",
    "\n",
    "top_10_vals = sorted(values, reverse = True)[0:10]\n",
    "top_10_counts = sorted(counts, reverse = True)[0:10]\n",
    "\n",
    "violations_dict = dict(zip(top_10_vals, top_10_counts))\n",
    "\n",
    "violations_df = pd.DataFrame.from_dict(violations_dict, orient = 'index')\n"
   ]
  },
  {
   "cell_type": "code",
   "execution_count": 29,
   "metadata": {},
   "outputs": [
    {
     "name": "stdout",
     "output_type": "stream",
     "text": [
      "Top 10 Traffic Violations:\n",
      "-------------------------------------------------------------------\n"
     ]
    },
    {
     "data": {
      "text/plain": [
       "RangeIndex(start=0, stop=1, step=1)"
      ]
     },
     "execution_count": 29,
     "metadata": {},
     "output_type": "execute_result"
    }
   ],
   "source": [
    "print('Top 10 Traffic Violations:')\n",
    "print('-------------------------------------------------------------------')\n",
    "violations_df.columns"
   ]
  },
  {
   "cell_type": "markdown",
   "metadata": {},
   "source": [
    "### Supervised Machine Learning "
   ]
  },
  {
   "cell_type": "markdown",
   "metadata": {},
   "source": [
    "Let's Look at the Proportions Amongst Outcomes"
   ]
  },
  {
   "cell_type": "code",
   "execution_count": 30,
   "metadata": {},
   "outputs": [
    {
     "data": {
      "text/plain": [
       "citation    99.741599\n",
       "arrest       0.258401\n",
       "Name: outcome, dtype: float64"
      ]
     },
     "execution_count": 30,
     "metadata": {},
     "output_type": "execute_result"
    }
   ],
   "source": [
    "# Class Imbalance Issue \n",
    "df_filtered.outcome.value_counts(normalize = True) * 100"
   ]
  },
  {
   "cell_type": "markdown",
   "metadata": {},
   "source": [
    "##### Prepare Data For Modeling "
   ]
  },
  {
   "cell_type": "code",
   "execution_count": 31,
   "metadata": {},
   "outputs": [],
   "source": [
    "#split dataset in features and target variable\n",
    "feature_cols = ['substation','subject_age','subject_race','subject_sex','district']\n",
    "X = df_filtered[feature_cols] # Features\n",
    "y = df_filtered.outcome # Target variable"
   ]
  },
  {
   "cell_type": "markdown",
   "metadata": {},
   "source": [
    "Recode Categorical Values "
   ]
  },
  {
   "cell_type": "code",
   "execution_count": 32,
   "metadata": {},
   "outputs": [],
   "source": [
    "from sklearn.preprocessing import OneHotEncoder\n",
    "\n",
    "X = OneHotEncoder(categories= 'auto', drop = 'first').fit_transform(X)"
   ]
  },
  {
   "cell_type": "code",
   "execution_count": 33,
   "metadata": {},
   "outputs": [],
   "source": [
    "# split X and y into training and testing sets\n",
    "from sklearn.model_selection import train_test_split\n",
    "\n",
    "X_train, X_test, y_train, y_test = train_test_split(X, y, test_size=0.20, random_state=16)"
   ]
  },
  {
   "cell_type": "code",
   "execution_count": 34,
   "metadata": {},
   "outputs": [
    {
     "name": "stdout",
     "output_type": "stream",
     "text": [
      "X_train Shape (701546, 215)\n",
      "y_train Shape (701546,)\n",
      "X_test Shape (175387, 215)\n",
      "y_test Shape (175387,)\n"
     ]
    }
   ],
   "source": [
    "print('X_train Shape', X_train.shape)\n",
    "print('y_train Shape', y_train.shape)\n",
    "print('X_test Shape', X_test.shape)\n",
    "print('y_test Shape', y_test.shape)"
   ]
  },
  {
   "cell_type": "markdown",
   "metadata": {},
   "source": [
    "#### Logistic Regression Classifier "
   ]
  },
  {
   "cell_type": "code",
   "execution_count": 41,
   "metadata": {},
   "outputs": [
    {
     "name": "stdout",
     "output_type": "stream",
     "text": [
      "Model Accuracy: 0.9974114387041229\n",
      "Model Recall: 0.9974114387041229\n",
      "Model_F1 Score: 0.9974114387041229\n"
     ]
    }
   ],
   "source": [
    "# import the class\n",
    "from sklearn.linear_model import LogisticRegression\n",
    "from sklearn.metrics import accuracy_score, f1_score, confusion_matrix, recall_score\n",
    "\n",
    "# instantiate the model (using the default parameters)\n",
    "logreg = LogisticRegression(random_state=16, solver='liblinear', C=10.0)\n",
    "\n",
    "# fit the model with data\n",
    "logreg = logreg.fit(X_train, y_train)\n",
    "\n",
    "# Make Predictions \n",
    "y_pred = logreg.predict(X_test)\n",
    "\n",
    "#Accuracy \n",
    "print('Model Accuracy:',accuracy_score(y_test,y_pred))\n",
    "print('Model Recall:',recall_score(y_test, y_pred, average = 'micro'))\n",
    "print('Model_F1 Score:',f1_score(y_test, y_pred, average = 'micro'))"
   ]
  },
  {
   "cell_type": "code",
   "execution_count": 36,
   "metadata": {},
   "outputs": [
    {
     "data": {
      "image/png": "[encoded data removed]",
      "text/plain": [
       "<Figure size 640x480 with 2 Axes>"
      ]
     },
     "metadata": {},
     "output_type": "display_data"
    }
   ],
   "source": [
    "from sklearn import metrics\n",
    "confusion_matrix = metrics.confusion_matrix(y_test, y_pred)\n",
    "cm_display = metrics.ConfusionMatrixDisplay(confusion_matrix = confusion_matrix, display_labels = [False, True])\n",
    "cm_display.plot()\n",
    "plt.show()"
   ]
  },
  {
   "cell_type": "code",
   "execution_count": 37,
   "metadata": {},
   "outputs": [
    {
     "name": "stdout",
     "output_type": "stream",
     "text": [
      "substation\t0.18604477038470513\n",
      "subject_age\t0.7146319376127092\n",
      "subject_race\t0.18097920883914917\n",
      "subject_sex\t0.4254273314745508\n",
      "district\t0.3870022219622022\n",
      "[7.21900855]\n"
     ]
    }
   ],
   "source": [
    "# Assign the coefficients to a list coef\n",
    "coef = logreg.coef_\n",
    "for p,c in zip(feature_cols,list(coef[0])):\n",
    "    print(p + '\\t' + str(c))\n",
    "\n",
    "# Assign the intercept to the variable intercept\n",
    "intercept = logreg.intercept_\n",
    "print(intercept)"
   ]
  },
  {
   "cell_type": "markdown",
   "metadata": {},
   "source": [
    "#### Decision Tree"
   ]
  },
  {
   "cell_type": "code",
   "execution_count": 42,
   "metadata": {},
   "outputs": [
    {
     "name": "stdout",
     "output_type": "stream",
     "text": [
      "Model Accuracy: 0.9973316152280386\n",
      "Model Recall: 0.9973316152280386\n",
      "Model_F1 Score: 0.9973316152280386\n"
     ]
    }
   ],
   "source": [
    "from sklearn.tree import DecisionTreeClassifier\n",
    "from sklearn import metrics\n",
    "from sklearn import tree\n",
    "\n",
    "# Create Decision Tree classifer object\n",
    "clf = DecisionTreeClassifier()\n",
    "\n",
    "# Train Decision Tree Classifer\n",
    "clf = clf.fit(X_train,y_train)\n",
    "\n",
    "#Predict the response for test dataset\n",
    "y_pred = clf.predict(X_test)\n",
    "\n",
    "# Model Accuracy, how often is the classifier correct?\n",
    "print('Model Accuracy:',accuracy_score(y_test,y_pred))\n",
    "print('Model Recall:',recall_score(y_test, y_pred, average = 'micro'))\n",
    "print('Model_F1 Score:',f1_score(y_test, y_pred, average = 'micro'))\n"
   ]
  },
  {
   "cell_type": "markdown",
   "metadata": {},
   "source": [
    "##### The Confusion Matrix created has four different quadrants:\n",
    "\n",
    "- True Negative (Top-Left Quadrant)\n",
    "- False Positive (Top-Right Quadrant)\n",
    "- False Negative (Bottom-Left Quadrant)\n",
    "- True Positive (Bottom-Right Quadrant)\n"
   ]
  },
  {
   "cell_type": "code",
   "execution_count": 39,
   "metadata": {},
   "outputs": [
    {
     "data": {
      "image/png": "[encoded data removed]",
      "text/plain": [
       "<Figure size 640x480 with 2 Axes>"
      ]
     },
     "metadata": {},
     "output_type": "display_data"
    }
   ],
   "source": [
    "confusion_matrix = metrics.confusion_matrix(y_test, y_pred)\n",
    "cm_display = metrics.ConfusionMatrixDisplay(confusion_matrix = confusion_matrix, display_labels = [False, True])\n",
    "cm_display.plot()\n",
    "plt.show()"
   ]
  }
 ],
 "metadata": {
  "kernelspec": {
   "display_name": "Python 3.9.12 ('base')",
   "language": "python",
   "name": "python3"
  },
  "language_info": {
   "codemirror_mode": {
    "name": "ipython",
    "version": 3
   },
   "file_extension": ".py",
   "mimetype": "text/x-python",
   "name": "python",
   "nbconvert_exporter": "python",
   "pygments_lexer": "ipython3",
   "version": "3.9.12 (main, Apr  5 2022, 01:53:17) \n[Clang 12.0.0 ]"
  },
  "orig_nbformat": 4,
  "vscode": {
   "interpreter": {
    "hash": "448e7e38fe111f17e868261c037ae6de695e5d1782576b84f995b3ed10243d97"
   }
  }
 },
 "nbformat": 4,
 "nbformat_minor": 2
}
